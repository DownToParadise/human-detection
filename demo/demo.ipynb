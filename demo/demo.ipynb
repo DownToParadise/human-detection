{
 "cells": [
  {
   "cell_type": "code",
   "execution_count": 1,
   "metadata": {
    "pycharm": {
     "is_executing": false
    }
   },
   "outputs": [],
   "source": [
    "from mmaction.apis import init_recognizer, inference_recognizer"
   ]
  },
  {
   "cell_type": "code",
   "execution_count": 2,
   "metadata": {},
   "outputs": [
    {
     "name": "stdout",
     "output_type": "stream",
     "text": [
      "Package                           Version\n",
      "--------------------------------- ---------------------\n",
      "absl-py                           0.12.0\n",
      "addict                            2.4.0\n",
      "altgraph                          0.17\n",
      "anaconda-client                   1.7.2"
     ]
    },
    {
     "name": "stderr",
     "output_type": "stream",
     "text": [
      "WARNING: Ignoring invalid distribution -orch (d:\\anaconda\\lib\\site-packages)\n",
      "WARNING: Ignoring invalid distribution -orch (d:\\anaconda\\lib\\site-packages)\n",
      "WARNING: Ignoring invalid distribution -orch (d:\\anaconda\\lib\\site-packages)\n",
      "WARNING: There was an error checking the latest version of pip.\n"
     ]
    },
    {
     "name": "stdout",
     "output_type": "stream",
     "text": [
      "\n",
      "anaconda-navigator                1.9.12\n",
      "argon2-cffi                       20.1.0\n",
      "asgiref                           3.2.10\n",
      "astor                             0.8.1\n",
      "async-generator                   1.10\n",
      "atomicwrites                      1.4.0\n",
      "attrs                             20.3.0\n",
      "Automat                           20.2.0\n",
      "autopep8                          1.4.4\n",
      "backcall                          0.2.0\n",
      "backports.functools-lru-cache     1.6.1\n",
      "backports.tempfile                1.0\n",
      "backports.weakref                 1.0.post1\n",
      "beautifulsoup4                    4.9.3\n",
      "bleach                            3.3.0\n",
      "brotlipy                          0.7.0\n",
      "cachetools                        4.2.2\n",
      "certifi                           2021.10.8\n",
      "cffi                              1.14.5\n",
      "chardet                           4.0.0\n",
      "chumpy                            0.70\n",
      "click                             7.1.2\n",
      "clyent                            1.2.2\n",
      "colorama                          0.4.4\n",
      "conda                             4.12.0\n",
      "conda-build                       3.18.11\n",
      "conda-package-handling            1.7.2\n",
      "conda-verify                      3.4.2\n",
      "constantly                        15.1.0\n",
      "cryptography                      3.3.1\n",
      "cssselect                         1.1.0\n",
      "cycler                            0.10.0\n",
      "Cython                            0.29.28\n",
      "decorator                         4.4.2\n",
      "defusedxml                        0.7.0\n",
      "Django                            3.0.8\n",
      "entrypoints                       0.3\n",
      "et-xmlfile                        1.1.0\n",
      "filelock                          3.0.12\n",
      "future                            0.18.2\n",
      "gast                              0.3.3\n",
      "gensim                            4.2.0\n",
      "glob2                             0.7\n",
      "google-auth                       1.30.0\n",
      "google-auth-oauthlib              0.4.4\n",
      "grpcio                            1.38.0\n",
      "hyperlink                         20.0.1\n",
      "idna                              2.10\n",
      "imageio                           2.9.0\n",
      "imgviz                            1.5.0\n",
      "importlib-metadata                2.0.0\n",
      "incremental                       17.5.0\n",
      "iniconfig                         1.1.1\n",
      "ipykernel                         5.3.4\n",
      "ipython                           7.21.0\n",
      "ipython-genutils                  0.2.0\n",
      "iso8601                           0.1.14\n",
      "itemadapter                       0.1.0\n",
      "itemloaders                       1.0.2\n",
      "jedi                              0.17.0\n",
      "jieba                             0.42.1\n",
      "Jinja2                            2.11.3\n",
      "jmespath                          0.10.0\n",
      "joblib                            1.1.0\n",
      "json-tricks                       3.16.1\n",
      "json5                             0.9.5\n",
      "jsonschema                        3.2.0\n",
      "jupyter-client                    6.1.7\n",
      "jupyter-core                      4.7.1\n",
      "jupyter-nbextensions-configurator 0.5.0\n",
      "jupyterlab                        2.2.6\n",
      "jupyterlab-pygments               0.1.2\n",
      "jupyterlab-server                 1.2.0\n",
      "jupyterthemes                     0.20.0\n",
      "kiwisolver                        1.3.1\n",
      "lesscpy                           0.15.0\n",
      "libarchive-c                      2.9\n",
      "Markdown                          3.3.4\n",
      "markdown-it-py                    2.2.0\n",
      "MarkupSafe                        1.1.1\n",
      "matplotlib                        3.2.2\n",
      "mdurl                             0.1.2\n",
      "menuinst                          1.4.16\n",
      "mistune                           0.8.4\n",
      "mkl-fft                           1.3.1\n",
      "mkl-random                        1.2.2\n",
      "mkl-service                       2.4.0\n",
      "mmcv                              1.7.1\n",
      "mmpose                            0.29.0\n",
      "model-index                       0.1.11\n",
      "munkres                           1.1.4\n",
      "natsort                           8.1.0\n",
      "navigator-updater                 0.2.1\n",
      "nbclient                          0.5.3\n",
      "nbconvert                         6.0.7\n",
      "nbformat                          5.1.2\n",
      "nest-asyncio                      1.5.1\n",
      "networkx                          2.5\n",
      "nltk                              3.7\n",
      "notebook                          6.2.0\n",
      "numpy                             1.21.5\n",
      "oauthlib                          3.1.0\n",
      "olefile                           0.46\n",
      "opencv-contrib-python             4.5.4.60\n",
      "opencv-contrib-python-headless    4.5.4.60\n",
      "opencv-python                     4.6.0.66\n",
      "openmim                           0.3.6\n",
      "openpyxl                          3.0.7\n",
      "ordered-set                       4.1.0\n",
      "packaging                         20.9\n",
      "paddlepaddle                      2.1.0\n",
      "pandas                            1.2.3\n",
      "pandocfilters                     1.4.3\n",
      "parsel                            1.6.0\n",
      "parso                             0.8.1\n",
      "pefile                            2019.4.18\n",
      "pickleshare                       0.7.5\n",
      "Pillow                            8.1.1\n",
      "pip                               22.3.1\n",
      "pkginfo                           1.7.0\n",
      "pluggy                            0.13.1\n"
     ]
    },
    {
     "name": "stdout",
     "output_type": "stream",
     "text": [
      "ply                               3.11\n",
      "prometheus-client                 0.9.0\n",
      "prompt-toolkit                    3.0.8\n",
      "Protego                           0.1.16\n",
      "protobuf                          3.17.0\n",
      "psutil                            5.8.0\n",
      "py                                1.10.0\n",
      "pyasn1                            0.4.8\n",
      "pyasn1-modules                    0.2.8\n",
      "pycocotools                       2.0\n",
      "pycodestyle                       2.6.0\n",
      "pycosat                           0.6.3\n",
      "pycparser                         2.20\n",
      "PyDispatcher                      2.0.5\n",
      "pygame                            1.9.6\n",
      "Pygments                          2.14.0\n",
      "PyHamcrest                        2.0.2\n",
      "PyInstaller                       3.6\n",
      "pyOpenSSL                         20.0.1\n",
      "pyparsing                         2.4.7\n",
      "PyQt5                             5.15.6\n",
      "PyQt5-Qt5                         5.15.2\n",
      "PyQt5-sip                         12.9.0\n",
      "pyrsistent                        0.17.3\n",
      "PySocks                           1.7.1\n",
      "pytest                            6.2.4\n",
      "python-dateutil                   2.8.1\n",
      "pytz                              2021.1\n",
      "PyWavelets                        1.1.1\n",
      "pywin32                           227\n",
      "pywinpty                          0.5.7\n",
      "PyYAML                            5.4.1\n",
      "pyzmq                             20.0.0\n",
      "QtPy                              1.9.0\n",
      "queuelib                          1.5.0\n",
      "regex                             2022.3.15\n",
      "requests                          2.25.1\n",
      "requests-oauthlib                 1.3.0\n",
      "rich                              13.3.2\n",
      "rsa                               4.7.2\n",
      "ruamel_yaml                       0.15.87\n",
      "scikit-image                      0.18.1\n",
      "scikit-learn                      1.0.2\n",
      "scipy                             1.6.1\n",
      "Scrapy                            2.3.0\n",
      "seaborn                           0.11.1\n",
      "Send2Trash                        1.5.0\n",
      "serial                            0.0.97\n",
      "service-identity                  18.1.0\n",
      "setuptools                        58.0.4\n",
      "simplejson                        3.18.3\n",
      "six                               1.15.0\n",
      "sklearn                           0.0\n",
      "smart-open                        6.0.0\n",
      "soupsieve                         2.2\n",
      "sqlparse                          0.3.1\n",
      "tabulate                          0.9.0\n",
      "tensorboard                       2.5.0\n",
      "tensorboard-data-server           0.6.1\n",
      "tensorboard-plugin-wit            1.8.0\n",
      "termcolor                         1.1.0\n",
      "terminado                         0.9.2\n",
      "testpath                          0.4.4\n",
      "thop                              0.0.31.post2005241907\n",
      "threadpoolctl                     2.1.0\n",
      "tifffile                          2021.3.17\n",
      "torch                             1.11.0\n",
      "torchaudio                        0.11.0\n",
      "torchtext                         0.12.0\n",
      "torchvision                       0.12.0\n",
      "tornado                           6.1\n",
      "tqdm                              4.56.0\n",
      "traitlets                         5.0.5\n",
      "Twisted                           20.3.0\n",
      "typing_extensions                 4.5.0\n",
      "urllib3                           1.26.3\n",
      "utils                             1.0.1\n",
      "vboxapi                           1.0\n",
      "w3lib                             1.22.0\n",
      "wcwidth                           0.2.5\n",
      "webencodings                      0.5.1\n",
      "Werkzeug                          2.0.1\n",
      "wheel                             0.36.2\n",
      "win-inet-pton                     1.1.0\n",
      "wincertstore                      0.2\n",
      "wordcloud                         1.7.0\n",
      "xlrd                              2.0.1\n",
      "xlwt                              1.3.0\n",
      "xmltodict                         0.12.0\n",
      "xtcocotools                       1.13\n",
      "yapf                              0.32.0\n",
      "zipp                              3.7.0\n",
      "zope.interface                    5.1.0\n"
     ]
    }
   ],
   "source": [
    "import numpy as np\n",
    "!pip list"
   ]
  },
  {
   "cell_type": "code",
   "execution_count": 2,
   "metadata": {
    "pycharm": {
     "is_executing": false
    }
   },
   "outputs": [],
   "source": [
    "config_file = '../configs/recognition/tsn/tsn_r50_video_inference_1x1x3_100e_kinetics400_rgb.py'\n",
    "# download the checkpoint from model zoo and put it in `checkpoints/`\n",
    "checkpoint_file = '../checkpoints/tsn_r50_1x1x3_100e_kinetics400_rgb_20200614-e508be42.pth'"
   ]
  },
  {
   "cell_type": "code",
   "execution_count": 3,
   "metadata": {
    "pycharm": {
     "is_executing": false
    }
   },
   "outputs": [],
   "source": [
    "# build the model from a config file and a checkpoint file\n",
    "model = init_recognizer(config_file, checkpoint_file, device='cpu')"
   ]
  },
  {
   "cell_type": "code",
   "execution_count": 4,
   "metadata": {
    "pycharm": {
     "is_executing": false
    }
   },
   "outputs": [],
   "source": [
    "# test a single video and show the result:\n",
    "video = 'demo.mp4'\n",
    "label = '../../tools/data/kinetics/label_map_k400.txt'\n",
    "results = inference_recognizer(model, video)\n",
    "\n",
    "labels = open(label).readlines()\n",
    "labels = [x.strip() for x in labels]\n",
    "results = [(labels[k[0]], k[1]) for k in results]"
   ]
  },
  {
   "cell_type": "code",
   "execution_count": 5,
   "metadata": {
    "collapsed": false,
    "jupyter": {
     "outputs_hidden": false
    },
    "pycharm": {
     "is_executing": false,
     "name": "#%%\n"
    }
   },
   "outputs": [
    {
     "name": "stdout",
     "output_type": "stream",
     "text": [
      "arm wrestling:  29.61644\n",
      "rock scissors paper:  10.754839\n",
      "shaking hands:  9.9084\n",
      "clapping:  9.189912\n",
      "massaging feet:  8.305307\n"
     ]
    }
   ],
   "source": [
    "# show the results\n",
    "for result in results:\n",
    "    print(f'{result[0]}: ', result[1])"
   ]
  }
 ],
 "metadata": {
  "kernelspec": {
   "display_name": "Python 3",
   "language": "python",
   "name": "python3"
  },
  "language_info": {
   "codemirror_mode": {
    "name": "ipython",
    "version": 3
   },
   "file_extension": ".py",
   "mimetype": "text/x-python",
   "name": "python",
   "nbconvert_exporter": "python",
   "pygments_lexer": "ipython3",
   "version": "3.7.6"
  },
  "pycharm": {
   "stem_cell": {
    "cell_type": "raw",
    "metadata": {
     "collapsed": false
    },
    "source": []
   }
  }
 },
 "nbformat": 4,
 "nbformat_minor": 4
}
