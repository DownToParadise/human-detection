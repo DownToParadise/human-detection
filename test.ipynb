{
 "cells": [
  {
   "cell_type": "code",
   "execution_count": 1,
   "metadata": {},
   "outputs": [],
   "source": [
    "import numpy as np\n",
    "import cv2\n",
    "import glob\n",
    "import os"
   ]
  },
  {
   "cell_type": "code",
   "execution_count": 19,
   "metadata": {},
   "outputs": [],
   "source": [
    "# 将图片转化成视频\n",
    "img_array = []\n",
    "for filename in glob.glob(\"C:\\\\Users\\\\yeung\\\\Desktop\\\\Subject1Activity4Trial1Camera1\\\\*.png\"):\n",
    "    img = cv2.imread(filename)\n",
    "    img_array.append(img)\n",
    "\n",
    "height, width, layers = img.shape\n",
    "size = (width, height)\n",
    "\n",
    "fourcc = cv2.VideoWriter_fourcc(*\"mp4v\")\n",
    "out = cv2.VideoWriter(\"subject1_fall4.mp4\", fourcc, 18, size)\n",
    "for img in img_array:\n",
    "    out.write(img)\n",
    "out.release()"
   ]
  },
  {
   "cell_type": "code",
   "execution_count": 2,
   "metadata": {},
   "outputs": [],
   "source": [
    "def load_label_map(file_path):\n",
    "    \"\"\"Load Label Map.\n",
    "\n",
    "    Args:\n",
    "        file_path (str): The file path of label map.\n",
    "\n",
    "    Returns:\n",
    "        dict: The label map (int -> label name).\n",
    "    \"\"\"\n",
    "    lines = open(file_path).readlines()\n",
    "    lines = [x.strip().split(': ') for x in lines]\n",
    "    return {int(x[0]): x[1] for x in lines}"
   ]
  },
  {
   "cell_type": "code",
   "execution_count": 3,
   "metadata": {},
   "outputs": [],
   "source": [
    "eld_file_path = \"tools/data/ava/label_map.txt\"\n",
    "old_label = load_label_map(eld_file_path)"
   ]
  },
  {
   "cell_type": "code",
   "execution_count": null,
   "metadata": {},
   "outputs": [
    {
     "data": {
      "text/plain": [
       "{1: 'bend/bow (at the waist)',\n",
       " 3: 'crouch/kneel',\n",
       " 4: 'dance',\n",
       " 5: 'fall down',\n",
       " 6: 'get up',\n",
       " 7: 'jump/leap',\n",
       " 8: 'lie/sleep',\n",
       " 9: 'martial art',\n",
       " 10: 'run/jog',\n",
       " 11: 'sit',\n",
       " 12: 'stand',\n",
       " 13: 'swim',\n",
       " 14: 'walk',\n",
       " 15: 'answer phone',\n",
       " 17: 'carry/hold (an object)',\n",
       " 20: 'climb (e.g., a mountain)',\n",
       " 22: 'close (e.g., a door, a box)',\n",
       " 24: 'cut',\n",
       " 26: 'dress/put on clothing',\n",
       " 27: 'drink',\n",
       " 28: 'drive (e.g., a car, a truck)',\n",
       " 29: 'eat',\n",
       " 30: 'enter',\n",
       " 34: 'hit (an object)',\n",
       " 36: 'lift/pick up',\n",
       " 37: 'listen (e.g., to music)',\n",
       " 38: 'open (e.g., a window, a car door)',\n",
       " 41: 'play musical instrument',\n",
       " 43: 'point to (an object)',\n",
       " 45: 'pull (an object)',\n",
       " 46: 'push (an object)',\n",
       " 47: 'put down',\n",
       " 48: 'read',\n",
       " 49: 'ride (e.g., a bike, a car, a horse)',\n",
       " 51: 'sail boat',\n",
       " 52: 'shoot',\n",
       " 54: 'smoke',\n",
       " 56: 'take a photo',\n",
       " 57: 'text on/look at a cellphone',\n",
       " 58: 'throw',\n",
       " 59: 'touch (an object)',\n",
       " 60: 'turn (e.g., a screwdriver)',\n",
       " 61: 'watch (e.g., TV)',\n",
       " 62: 'work on a computer',\n",
       " 63: 'write',\n",
       " 64: 'fight/hit (a person)',\n",
       " 65: 'give/serve (an object) to (a person)',\n",
       " 66: 'grab (a person)',\n",
       " 67: 'hand clap',\n",
       " 68: 'hand shake',\n",
       " 69: 'hand wave',\n",
       " 70: 'hug (a person)',\n",
       " 72: 'kiss (a person)',\n",
       " 73: 'lift (a person)',\n",
       " 74: 'listen to (a person)',\n",
       " 76: 'push (another person)',\n",
       " 77: 'sing to (e.g., self, a person, a group)',\n",
       " 78: 'take (an object) from (a person)',\n",
       " 79: 'talk to (e.g., self, a person, a group)',\n",
       " 80: 'watch (a person)'}"
      ]
     },
     "execution_count": 5,
     "metadata": {},
     "output_type": "execute_result"
    }
   ],
   "source": [
    "def filter_label_map(outputs, label_map):\n",
    "    \"\"\"将81类标签聚合成我们的9类标签\"\"\"\n",
    "    file_path = \"tools/data/ava/my_label.txt\"\n",
    "    lines = open(file_path).readlines()\n",
    "    # 用来存储整合后的数据\n",
    "    res = np.zeros((len(lines)+1))\n",
    "    lines = [x.strip().split(\": \") for x in lines]\n",
    "    label_map = {}\n",
    "    for i, label in enumerate(lines):\n",
    "        label_map[i] =  label[1]\n",
    "        inds = [int(j) for j in label[0].split(\"*\")]\n",
    "        for j in inds:\n",
    "            res[i] += outputs[j]\n",
    "            outputs[j] = 0\n",
    "    i += 1\n",
    "    label_map[i] = 'others'\n",
    "    res[i] = sum(outputs)\n",
    "    return res, label_map\n",
    "    "
   ]
  }
 ],
 "metadata": {
  "kernelspec": {
   "display_name": "base",
   "language": "python",
   "name": "python3"
  },
  "language_info": {
   "codemirror_mode": {
    "name": "ipython",
    "version": 3
   },
   "file_extension": ".py",
   "mimetype": "text/x-python",
   "name": "python",
   "nbconvert_exporter": "python",
   "pygments_lexer": "ipython3",
   "version": "3.7.6"
  },
  "orig_nbformat": 4
 },
 "nbformat": 4,
 "nbformat_minor": 2
}
